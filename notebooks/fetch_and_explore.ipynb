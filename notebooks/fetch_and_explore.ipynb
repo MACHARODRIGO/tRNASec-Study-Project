{
 "cells": [
  {
   "cell_type": "markdown",
   "id": "3c58b91d",
   "metadata": {},
   "source": [
    "# 🧬 RNAcentral Data Retrieval: tRNA-Sec Pipeline\n",
    "\n",
    "This notebook documents a reproducible workflow to fetch, enrich, and analyze \n",
    "**tRNA-Sec sequences** from RNAcentral.  \n",
    "It is divided into the following steps:\n",
    "\n",
    "1. **Setup** → Import functions and prepare environment  \n",
    "2. **Fetch** → Retrieve sequences from RNAcentral  \n",
    "3. **Enrich** → Add gene annotations and metadata  \n",
    "4. **Export** → Save curated datasets  \n",
    "5. **Pipeline** → Run everything in one go  \n",
    "6. **Exploratory Analysis** → Inspect and visualize results\n",
    "\n",
    "\n",
    "## === 1. Setup ===\n",
    "\n",
    "We start by importing the functions defined in `scripts/fetch_rnacentral.py`.  \n",
    "Since this notebook may be executed in different environments (VSCode, Colab),  \n",
    "we use `importlib` to load the file explicitly by its relative path.  \n",
    "\n",
    "This guarantees that the functions are available even if `sys.path` is not configured. "
   ]
  },
  {
   "cell_type": "code",
   "execution_count": 15,
   "id": "d10c7d46",
   "metadata": {},
   "outputs": [],
   "source": [
    "# Import project functions and set working directory\n",
    "\n",
    "import importlib.util\n",
    "import sys\n",
    "\n",
    "# Load module from relative path\n",
    "spec = importlib.util.spec_from_file_location(\n",
    "    \"fetch_rnacentral\", \"../scripts/fetch_rnacentral.py\"\n",
    ")\n",
    "fr_module = importlib.util.module_from_spec(spec)\n",
    "sys.modules[\"fetch_rnacentral\"] = fr_module\n",
    "spec.loader.exec_module(fr_module)\n",
    "\n",
    "# Now we can call functions as fr_module.function_name"
   ]
  },
  {
   "cell_type": "markdown",
   "id": "1202d184",
   "metadata": {},
   "source": [
    "## === 2. Fetch sequences ===\n",
    "\n",
    "We start by querying RNAcentral for **selenocysteine tRNAs**.  \n",
    "This step retrieves nucleotide sequences along with basic metadata \n",
    "(e.g. species, RNA type, expert database source).  \n",
    "\n",
    "We limit the query to 20 entries as a test, before scaling up."
   ]
  },
  {
   "cell_type": "code",
   "execution_count": 16,
   "id": "d1589f9d",
   "metadata": {},
   "outputs": [
    {
     "name": "stdout",
     "output_type": "stream",
     "text": [
      "📋 Query: tRNA AND so_rna_type_name:\"Selenocysteinyl_tRNA\"\n",
      "⚡ Encontrados 43902 resultados\n",
      "⚡ Obteniendo 20 de 43902 resultados\n"
     ]
    },
    {
     "name": "stderr",
     "output_type": "stream",
     "text": [
      "Extrayendo secuencias: 100%|██████████| 20/20 [00:20<00:00,  1.04s/it]"
     ]
    },
    {
     "name": "stdout",
     "output_type": "stream",
     "text": [
      "✅ Retrieved 20 sequences\n"
     ]
    },
    {
     "name": "stderr",
     "output_type": "stream",
     "text": [
      "\n"
     ]
    },
    {
     "data": {
      "application/vnd.microsoft.datawrangler.viewer.v0+json": {
       "columns": [
        {
         "name": "index",
         "rawType": "int64",
         "type": "integer"
        },
        {
         "name": "URS_ID",
         "rawType": "object",
         "type": "string"
        },
        {
         "name": "Sequence",
         "rawType": "object",
         "type": "string"
        },
        {
         "name": "Length",
         "rawType": "int64",
         "type": "integer"
        },
        {
         "name": "description",
         "rawType": "object",
         "type": "string"
        },
        {
         "name": "species",
         "rawType": "object",
         "type": "string"
        },
        {
         "name": "rna_type",
         "rawType": "object",
         "type": "string"
        },
        {
         "name": "so_rna_type_name",
         "rawType": "object",
         "type": "string"
        },
        {
         "name": "expert_db",
         "rawType": "object",
         "type": "string"
        },
        {
         "name": "length",
         "rawType": "object",
         "type": "string"
        }
       ],
       "ref": "8099ff54-2272-4e17-ae21-06db4d12faf3",
       "rows": [
        [
         "0",
         "URS00001DA281_9606",
         "GCCCGGAUGAUCCUCAGUGGUCUGGGGUGCAGGCUUCAAACCUGUAGCUGUCUAGCGACAGAGUGGUUCAAUUCCACCUUUCGGGCG",
         "87",
         "Homo sapiens (human) tRNA-SeC (anticodon TCA) 1-1 (TRU-TCA1-1)",
         "Homo sapiens",
         "tRNA",
         "selenocysteinyl_tRNA",
         "ENA; HGNC; GeneCards; MalaCards; GtRNAdb; PDBe",
         "87"
        ],
        [
         "1",
         "URS0000C8E9EB_9606",
         "GCUCGGAUGAUCCUCAGUGGUCUGGGGUGCAGGCUUCAAACCUGUAGCUGUCUAGUGACAGAGUGGUUCAAUUCCACCUUUGUA",
         "84",
         "Homo sapiens (human) tRNA-SeC (anticodon TCA) 2-1 (TRU-TCA2-1)",
         "Homo sapiens",
         "tRNA",
         "selenocysteinyl_tRNA",
         "GtRNAdb; HGNC; GeneCards",
         "84"
        ],
        [
         "2",
         "URS00008FED48_9606",
         "GGCCGGAUGAUCCUCAGUGGUCUGGGGUGCAGGCUUCAAACCUGUAGCUGUCUAGCGACAGAGUGGUUCAAUUCCACCUUUCGGGCGCCA",
         "90",
         "selenocysteine tRNA from Homo sapiens (PDB 4RQF, chain C)",
         "Homo sapiens",
         "tRNA",
         "selenocysteinyl_tRNA",
         "PDBe",
         "90"
        ],
        [
         "3",
         "URS000014E598_9606",
         "GCCCGGAUGAUCCUCAGUGGUCUGGGGUGCAGGCUUCAAACCUGUAGCUGUCUAGCGACAGAGUGGUUCAAUUCCACCUUUCGGGCGCCA",
         "90",
         "human Ser-tRNA-Sec from Homo sapiens (PDB 7ZJW, chain F)",
         "Homo sapiens",
         "tRNA",
         "selenocysteinyl_tRNA",
         "PDBe",
         "90"
        ],
        [
         "4",
         "URS00006501FF_9606",
         "GCUCGGAUGAUCCUCAGUGGUCUGGGGUGCAGGCUUCAAACCUGUAGCUGUCUAGUGACAGAGUGGUUCAAUUCCACCUUUGUAGGC",
         "87",
         "Homo sapiens (human) Selenocysteine transfer RNA",
         "Homo sapiens",
         "tRNA",
         "selenocysteinyl_tRNA",
         "Rfam",
         "87"
        ]
       ],
       "shape": {
        "columns": 9,
        "rows": 5
       }
      },
      "text/html": [
       "<div>\n",
       "<style scoped>\n",
       "    .dataframe tbody tr th:only-of-type {\n",
       "        vertical-align: middle;\n",
       "    }\n",
       "\n",
       "    .dataframe tbody tr th {\n",
       "        vertical-align: top;\n",
       "    }\n",
       "\n",
       "    .dataframe thead th {\n",
       "        text-align: right;\n",
       "    }\n",
       "</style>\n",
       "<table border=\"1\" class=\"dataframe\">\n",
       "  <thead>\n",
       "    <tr style=\"text-align: right;\">\n",
       "      <th></th>\n",
       "      <th>URS_ID</th>\n",
       "      <th>Sequence</th>\n",
       "      <th>Length</th>\n",
       "      <th>description</th>\n",
       "      <th>species</th>\n",
       "      <th>rna_type</th>\n",
       "      <th>so_rna_type_name</th>\n",
       "      <th>expert_db</th>\n",
       "      <th>length</th>\n",
       "    </tr>\n",
       "  </thead>\n",
       "  <tbody>\n",
       "    <tr>\n",
       "      <th>0</th>\n",
       "      <td>URS00001DA281_9606</td>\n",
       "      <td>GCCCGGAUGAUCCUCAGUGGUCUGGGGUGCAGGCUUCAAACCUGUA...</td>\n",
       "      <td>87</td>\n",
       "      <td>Homo sapiens (human) tRNA-SeC (anticodon TCA) ...</td>\n",
       "      <td>Homo sapiens</td>\n",
       "      <td>tRNA</td>\n",
       "      <td>selenocysteinyl_tRNA</td>\n",
       "      <td>ENA; HGNC; GeneCards; MalaCards; GtRNAdb; PDBe</td>\n",
       "      <td>87</td>\n",
       "    </tr>\n",
       "    <tr>\n",
       "      <th>1</th>\n",
       "      <td>URS0000C8E9EB_9606</td>\n",
       "      <td>GCUCGGAUGAUCCUCAGUGGUCUGGGGUGCAGGCUUCAAACCUGUA...</td>\n",
       "      <td>84</td>\n",
       "      <td>Homo sapiens (human) tRNA-SeC (anticodon TCA) ...</td>\n",
       "      <td>Homo sapiens</td>\n",
       "      <td>tRNA</td>\n",
       "      <td>selenocysteinyl_tRNA</td>\n",
       "      <td>GtRNAdb; HGNC; GeneCards</td>\n",
       "      <td>84</td>\n",
       "    </tr>\n",
       "    <tr>\n",
       "      <th>2</th>\n",
       "      <td>URS00008FED48_9606</td>\n",
       "      <td>GGCCGGAUGAUCCUCAGUGGUCUGGGGUGCAGGCUUCAAACCUGUA...</td>\n",
       "      <td>90</td>\n",
       "      <td>selenocysteine tRNA from Homo sapiens (PDB 4RQ...</td>\n",
       "      <td>Homo sapiens</td>\n",
       "      <td>tRNA</td>\n",
       "      <td>selenocysteinyl_tRNA</td>\n",
       "      <td>PDBe</td>\n",
       "      <td>90</td>\n",
       "    </tr>\n",
       "    <tr>\n",
       "      <th>3</th>\n",
       "      <td>URS000014E598_9606</td>\n",
       "      <td>GCCCGGAUGAUCCUCAGUGGUCUGGGGUGCAGGCUUCAAACCUGUA...</td>\n",
       "      <td>90</td>\n",
       "      <td>human Ser-tRNA-Sec from Homo sapiens (PDB 7ZJW...</td>\n",
       "      <td>Homo sapiens</td>\n",
       "      <td>tRNA</td>\n",
       "      <td>selenocysteinyl_tRNA</td>\n",
       "      <td>PDBe</td>\n",
       "      <td>90</td>\n",
       "    </tr>\n",
       "    <tr>\n",
       "      <th>4</th>\n",
       "      <td>URS00006501FF_9606</td>\n",
       "      <td>GCUCGGAUGAUCCUCAGUGGUCUGGGGUGCAGGCUUCAAACCUGUA...</td>\n",
       "      <td>87</td>\n",
       "      <td>Homo sapiens (human) Selenocysteine transfer RNA</td>\n",
       "      <td>Homo sapiens</td>\n",
       "      <td>tRNA</td>\n",
       "      <td>selenocysteinyl_tRNA</td>\n",
       "      <td>Rfam</td>\n",
       "      <td>87</td>\n",
       "    </tr>\n",
       "  </tbody>\n",
       "</table>\n",
       "</div>"
      ],
      "text/plain": [
       "               URS_ID                                           Sequence  \\\n",
       "0  URS00001DA281_9606  GCCCGGAUGAUCCUCAGUGGUCUGGGGUGCAGGCUUCAAACCUGUA...   \n",
       "1  URS0000C8E9EB_9606  GCUCGGAUGAUCCUCAGUGGUCUGGGGUGCAGGCUUCAAACCUGUA...   \n",
       "2  URS00008FED48_9606  GGCCGGAUGAUCCUCAGUGGUCUGGGGUGCAGGCUUCAAACCUGUA...   \n",
       "3  URS000014E598_9606  GCCCGGAUGAUCCUCAGUGGUCUGGGGUGCAGGCUUCAAACCUGUA...   \n",
       "4  URS00006501FF_9606  GCUCGGAUGAUCCUCAGUGGUCUGGGGUGCAGGCUUCAAACCUGUA...   \n",
       "\n",
       "   Length                                        description       species  \\\n",
       "0      87  Homo sapiens (human) tRNA-SeC (anticodon TCA) ...  Homo sapiens   \n",
       "1      84  Homo sapiens (human) tRNA-SeC (anticodon TCA) ...  Homo sapiens   \n",
       "2      90  selenocysteine tRNA from Homo sapiens (PDB 4RQ...  Homo sapiens   \n",
       "3      90  human Ser-tRNA-Sec from Homo sapiens (PDB 7ZJW...  Homo sapiens   \n",
       "4      87   Homo sapiens (human) Selenocysteine transfer RNA  Homo sapiens   \n",
       "\n",
       "  rna_type      so_rna_type_name  \\\n",
       "0     tRNA  selenocysteinyl_tRNA   \n",
       "1     tRNA  selenocysteinyl_tRNA   \n",
       "2     tRNA  selenocysteinyl_tRNA   \n",
       "3     tRNA  selenocysteinyl_tRNA   \n",
       "4     tRNA  selenocysteinyl_tRNA   \n",
       "\n",
       "                                        expert_db length  \n",
       "0  ENA; HGNC; GeneCards; MalaCards; GtRNAdb; PDBe     87  \n",
       "1                        GtRNAdb; HGNC; GeneCards     84  \n",
       "2                                            PDBe     90  \n",
       "3                                            PDBe     90  \n",
       "4                                            Rfam     87  "
      ]
     },
     "execution_count": 16,
     "metadata": {},
     "output_type": "execute_result"
    }
   ],
   "source": [
    "df_sample = fr_module.fetch_all_trna_sec(max_results=20)\n",
    "print(f\"✅ Retrieved {len(df_sample)} sequences\")\n",
    "df_sample.head()"
   ]
  },
  {
   "cell_type": "markdown",
   "id": "c25e6a66",
   "metadata": {},
   "source": [
    "# === 3. Enrich with Gene Information ===\n",
    "\n",
    "RNAcentral provides additional gene annotations and references.  \n",
    "Here we extend the DataFrame by querying the API again for each URS_ID,  \n",
    "adding information on **associated genes** and **publication counts**.  "
   ]
  },
  {
   "cell_type": "code",
   "execution_count": 17,
   "id": "207e5804",
   "metadata": {},
   "outputs": [
    {
     "name": "stderr",
     "output_type": "stream",
     "text": [
      "Enriqueciendo con genes: 100%|██████████| 20/20 [00:19<00:00,  1.02it/s]"
     ]
    },
    {
     "name": "stdout",
     "output_type": "stream",
     "text": [
      "✅ Enriched dataset with 11 columns\n"
     ]
    },
    {
     "name": "stderr",
     "output_type": "stream",
     "text": [
      "\n"
     ]
    },
    {
     "data": {
      "application/vnd.microsoft.datawrangler.viewer.v0+json": {
       "columns": [
        {
         "name": "index",
         "rawType": "int64",
         "type": "integer"
        },
        {
         "name": "URS_ID",
         "rawType": "object",
         "type": "string"
        },
        {
         "name": "Sequence",
         "rawType": "object",
         "type": "string"
        },
        {
         "name": "Length",
         "rawType": "int64",
         "type": "integer"
        },
        {
         "name": "description",
         "rawType": "object",
         "type": "string"
        },
        {
         "name": "species",
         "rawType": "object",
         "type": "string"
        },
        {
         "name": "rna_type",
         "rawType": "object",
         "type": "string"
        },
        {
         "name": "so_rna_type_name",
         "rawType": "object",
         "type": "string"
        },
        {
         "name": "expert_db",
         "rawType": "object",
         "type": "string"
        },
        {
         "name": "length",
         "rawType": "object",
         "type": "string"
        },
        {
         "name": "genes",
         "rawType": "object",
         "type": "string"
        },
        {
         "name": "publications",
         "rawType": "int64",
         "type": "integer"
        }
       ],
       "ref": "901ea907-53bf-488c-bf32-4185313a83b6",
       "rows": [
        [
         "0",
         "URS00001DA281_9606",
         "GCCCGGAUGAUCCUCAGUGGUCUGGGGUGCAGGCUUCAAACCUGUAGCUGUCUAGCGACAGAGUGGUUCAAUUCCACCUUUCGGGCG",
         "87",
         "Homo sapiens (human) tRNA-SeC (anticodon TCA) 1-1 (TRU-TCA1-1)",
         "Homo sapiens",
         "tRNA",
         "selenocysteinyl_tRNA",
         "ENA; HGNC; GeneCards; MalaCards; GtRNAdb; PDBe",
         "87",
         "TRU-TCA1-1; tRNA-SeC-TCA-1-1; tRNA-Ser",
         "120"
        ],
        [
         "1",
         "URS0000C8E9EB_9606",
         "GCUCGGAUGAUCCUCAGUGGUCUGGGGUGCAGGCUUCAAACCUGUAGCUGUCUAGUGACAGAGUGGUUCAAUUCCACCUUUGUA",
         "84",
         "Homo sapiens (human) tRNA-SeC (anticodon TCA) 2-1 (TRU-TCA2-1)",
         "Homo sapiens",
         "tRNA",
         "selenocysteinyl_tRNA",
         "GtRNAdb; HGNC; GeneCards",
         "84",
         "TRU-TCA2-1; tRNA-SeC-TCA-2-1",
         "7"
        ],
        [
         "2",
         "URS00008FED48_9606",
         "GGCCGGAUGAUCCUCAGUGGUCUGGGGUGCAGGCUUCAAACCUGUAGCUGUCUAGCGACAGAGUGGUUCAAUUCCACCUUUCGGGCGCCA",
         "90",
         "selenocysteine tRNA from Homo sapiens (PDB 4RQF, chain C)",
         "Homo sapiens",
         "tRNA",
         "selenocysteinyl_tRNA",
         "PDBe",
         "90",
         "",
         "18"
        ],
        [
         "3",
         "URS000014E598_9606",
         "GCCCGGAUGAUCCUCAGUGGUCUGGGGUGCAGGCUUCAAACCUGUAGCUGUCUAGCGACAGAGUGGUUCAAUUCCACCUUUCGGGCGCCA",
         "90",
         "human Ser-tRNA-Sec from Homo sapiens (PDB 7ZJW, chain F)",
         "Homo sapiens",
         "tRNA",
         "selenocysteinyl_tRNA",
         "PDBe",
         "90",
         "",
         "29"
        ],
        [
         "4",
         "URS00006501FF_9606",
         "GCUCGGAUGAUCCUCAGUGGUCUGGGGUGCAGGCUUCAAACCUGUAGCUGUCUAGUGACAGAGUGGUUCAAUUCCACCUUUGUAGGC",
         "87",
         "Homo sapiens (human) Selenocysteine transfer RNA",
         "Homo sapiens",
         "tRNA",
         "selenocysteinyl_tRNA",
         "Rfam",
         "87",
         "",
         "11"
        ]
       ],
       "shape": {
        "columns": 11,
        "rows": 5
       }
      },
      "text/html": [
       "<div>\n",
       "<style scoped>\n",
       "    .dataframe tbody tr th:only-of-type {\n",
       "        vertical-align: middle;\n",
       "    }\n",
       "\n",
       "    .dataframe tbody tr th {\n",
       "        vertical-align: top;\n",
       "    }\n",
       "\n",
       "    .dataframe thead th {\n",
       "        text-align: right;\n",
       "    }\n",
       "</style>\n",
       "<table border=\"1\" class=\"dataframe\">\n",
       "  <thead>\n",
       "    <tr style=\"text-align: right;\">\n",
       "      <th></th>\n",
       "      <th>URS_ID</th>\n",
       "      <th>Sequence</th>\n",
       "      <th>Length</th>\n",
       "      <th>description</th>\n",
       "      <th>species</th>\n",
       "      <th>rna_type</th>\n",
       "      <th>so_rna_type_name</th>\n",
       "      <th>expert_db</th>\n",
       "      <th>length</th>\n",
       "      <th>genes</th>\n",
       "      <th>publications</th>\n",
       "    </tr>\n",
       "  </thead>\n",
       "  <tbody>\n",
       "    <tr>\n",
       "      <th>0</th>\n",
       "      <td>URS00001DA281_9606</td>\n",
       "      <td>GCCCGGAUGAUCCUCAGUGGUCUGGGGUGCAGGCUUCAAACCUGUA...</td>\n",
       "      <td>87</td>\n",
       "      <td>Homo sapiens (human) tRNA-SeC (anticodon TCA) ...</td>\n",
       "      <td>Homo sapiens</td>\n",
       "      <td>tRNA</td>\n",
       "      <td>selenocysteinyl_tRNA</td>\n",
       "      <td>ENA; HGNC; GeneCards; MalaCards; GtRNAdb; PDBe</td>\n",
       "      <td>87</td>\n",
       "      <td>TRU-TCA1-1; tRNA-SeC-TCA-1-1; tRNA-Ser</td>\n",
       "      <td>120</td>\n",
       "    </tr>\n",
       "    <tr>\n",
       "      <th>1</th>\n",
       "      <td>URS0000C8E9EB_9606</td>\n",
       "      <td>GCUCGGAUGAUCCUCAGUGGUCUGGGGUGCAGGCUUCAAACCUGUA...</td>\n",
       "      <td>84</td>\n",
       "      <td>Homo sapiens (human) tRNA-SeC (anticodon TCA) ...</td>\n",
       "      <td>Homo sapiens</td>\n",
       "      <td>tRNA</td>\n",
       "      <td>selenocysteinyl_tRNA</td>\n",
       "      <td>GtRNAdb; HGNC; GeneCards</td>\n",
       "      <td>84</td>\n",
       "      <td>TRU-TCA2-1; tRNA-SeC-TCA-2-1</td>\n",
       "      <td>7</td>\n",
       "    </tr>\n",
       "    <tr>\n",
       "      <th>2</th>\n",
       "      <td>URS00008FED48_9606</td>\n",
       "      <td>GGCCGGAUGAUCCUCAGUGGUCUGGGGUGCAGGCUUCAAACCUGUA...</td>\n",
       "      <td>90</td>\n",
       "      <td>selenocysteine tRNA from Homo sapiens (PDB 4RQ...</td>\n",
       "      <td>Homo sapiens</td>\n",
       "      <td>tRNA</td>\n",
       "      <td>selenocysteinyl_tRNA</td>\n",
       "      <td>PDBe</td>\n",
       "      <td>90</td>\n",
       "      <td></td>\n",
       "      <td>18</td>\n",
       "    </tr>\n",
       "    <tr>\n",
       "      <th>3</th>\n",
       "      <td>URS000014E598_9606</td>\n",
       "      <td>GCCCGGAUGAUCCUCAGUGGUCUGGGGUGCAGGCUUCAAACCUGUA...</td>\n",
       "      <td>90</td>\n",
       "      <td>human Ser-tRNA-Sec from Homo sapiens (PDB 7ZJW...</td>\n",
       "      <td>Homo sapiens</td>\n",
       "      <td>tRNA</td>\n",
       "      <td>selenocysteinyl_tRNA</td>\n",
       "      <td>PDBe</td>\n",
       "      <td>90</td>\n",
       "      <td></td>\n",
       "      <td>29</td>\n",
       "    </tr>\n",
       "    <tr>\n",
       "      <th>4</th>\n",
       "      <td>URS00006501FF_9606</td>\n",
       "      <td>GCUCGGAUGAUCCUCAGUGGUCUGGGGUGCAGGCUUCAAACCUGUA...</td>\n",
       "      <td>87</td>\n",
       "      <td>Homo sapiens (human) Selenocysteine transfer RNA</td>\n",
       "      <td>Homo sapiens</td>\n",
       "      <td>tRNA</td>\n",
       "      <td>selenocysteinyl_tRNA</td>\n",
       "      <td>Rfam</td>\n",
       "      <td>87</td>\n",
       "      <td></td>\n",
       "      <td>11</td>\n",
       "    </tr>\n",
       "  </tbody>\n",
       "</table>\n",
       "</div>"
      ],
      "text/plain": [
       "               URS_ID                                           Sequence  \\\n",
       "0  URS00001DA281_9606  GCCCGGAUGAUCCUCAGUGGUCUGGGGUGCAGGCUUCAAACCUGUA...   \n",
       "1  URS0000C8E9EB_9606  GCUCGGAUGAUCCUCAGUGGUCUGGGGUGCAGGCUUCAAACCUGUA...   \n",
       "2  URS00008FED48_9606  GGCCGGAUGAUCCUCAGUGGUCUGGGGUGCAGGCUUCAAACCUGUA...   \n",
       "3  URS000014E598_9606  GCCCGGAUGAUCCUCAGUGGUCUGGGGUGCAGGCUUCAAACCUGUA...   \n",
       "4  URS00006501FF_9606  GCUCGGAUGAUCCUCAGUGGUCUGGGGUGCAGGCUUCAAACCUGUA...   \n",
       "\n",
       "   Length                                        description       species  \\\n",
       "0      87  Homo sapiens (human) tRNA-SeC (anticodon TCA) ...  Homo sapiens   \n",
       "1      84  Homo sapiens (human) tRNA-SeC (anticodon TCA) ...  Homo sapiens   \n",
       "2      90  selenocysteine tRNA from Homo sapiens (PDB 4RQ...  Homo sapiens   \n",
       "3      90  human Ser-tRNA-Sec from Homo sapiens (PDB 7ZJW...  Homo sapiens   \n",
       "4      87   Homo sapiens (human) Selenocysteine transfer RNA  Homo sapiens   \n",
       "\n",
       "  rna_type      so_rna_type_name  \\\n",
       "0     tRNA  selenocysteinyl_tRNA   \n",
       "1     tRNA  selenocysteinyl_tRNA   \n",
       "2     tRNA  selenocysteinyl_tRNA   \n",
       "3     tRNA  selenocysteinyl_tRNA   \n",
       "4     tRNA  selenocysteinyl_tRNA   \n",
       "\n",
       "                                        expert_db length  \\\n",
       "0  ENA; HGNC; GeneCards; MalaCards; GtRNAdb; PDBe     87   \n",
       "1                        GtRNAdb; HGNC; GeneCards     84   \n",
       "2                                            PDBe     90   \n",
       "3                                            PDBe     90   \n",
       "4                                            Rfam     87   \n",
       "\n",
       "                                    genes  publications  \n",
       "0  TRU-TCA1-1; tRNA-SeC-TCA-1-1; tRNA-Ser           120  \n",
       "1            TRU-TCA2-1; tRNA-SeC-TCA-2-1             7  \n",
       "2                                                    18  \n",
       "3                                                    29  \n",
       "4                                                    11  "
      ]
     },
     "execution_count": 17,
     "metadata": {},
     "output_type": "execute_result"
    }
   ],
   "source": [
    "df_full = fr_module.enrich_with_genes(df_sample)\n",
    "\n",
    "print(f\"✅ Enriched dataset with {df_full.shape[1]} columns\")\n",
    "\n",
    "df_full.head()"
   ]
  },
  {
   "cell_type": "markdown",
   "id": "e72c54fc",
   "metadata": {},
   "source": [
    "# === 4. Export results ===\n",
    "\n",
    "\n",
    "We export two CSVs:  \n",
    "1. **Sequences + Gene annotations** → curated dataset  \n",
    "2. **Publications** → associated literature for each sequence  \n",
    "\n",
    "This ensures reproducibility and allows sharing downstream.  "
   ]
  },
  {
   "cell_type": "code",
   "execution_count": 18,
   "id": "d855abe8",
   "metadata": {},
   "outputs": [
    {
     "name": "stderr",
     "output_type": "stream",
     "text": [
      "Extrayendo publicaciones: 100%|██████████| 20/20 [00:10<00:00,  2.00it/s]"
     ]
    },
    {
     "name": "stdout",
     "output_type": "stream",
     "text": [
      "✅ Publicaciones guardadas en: ../data/raw/sample_trna_sec_publications.csv\n"
     ]
    },
    {
     "name": "stderr",
     "output_type": "stream",
     "text": [
      "\n"
     ]
    }
   ],
   "source": [
    "df_full.to_csv(\"../data/raw/sample_trna_sec.csv\", index=False)\n",
    "fr_module.export_publications(df_full, \"../data/raw/sample_trna_sec_publications.csv\")"
   ]
  },
  {
   "cell_type": "markdown",
   "id": "9c6591d3",
   "metadata": {},
   "source": [
    "# === 5. Run full pipeline (optional) ===\n",
    "\n",
    "For convenience, we provide a single function `run_full_pipeline()`  \n",
    "that runs all previous steps automatically:\n",
    "\n",
    "1. Fetch tRNA-Sec sequences  \n",
    "2. Enrich with gene info  \n",
    "3. Export results and publications  \n",
    "\n",
    "Useful for larger queries or automation."
   ]
  },
  {
   "cell_type": "code",
   "execution_count": 19,
   "id": "9464f27e",
   "metadata": {},
   "outputs": [
    {
     "name": "stdout",
     "output_type": "stream",
     "text": [
      "=== Fetching tRNA-Sec with full metadata ===\n",
      "📋 Query: tRNA AND so_rna_type_name:\"Selenocysteinyl_tRNA\"\n",
      "⚡ Encontrados 43902 resultados\n",
      "⚡ Obteniendo 500 de 43902 resultados\n"
     ]
    },
    {
     "name": "stderr",
     "output_type": "stream",
     "text": [
      "Extrayendo secuencias: 100%|██████████| 500/500 [09:19<00:00,  1.12s/it]\n",
      "Enriqueciendo con genes: 100%|██████████| 500/500 [09:38<00:00,  1.16s/it]\n"
     ]
    },
    {
     "name": "stdout",
     "output_type": "stream",
     "text": [
      "✅ Final CSV with genes saved to: ../data/raw\\500_trna_sec.csv\n"
     ]
    },
    {
     "name": "stderr",
     "output_type": "stream",
     "text": [
      "Extrayendo publicaciones: 100%|██████████| 500/500 [01:27<00:00,  5.71it/s]"
     ]
    },
    {
     "name": "stdout",
     "output_type": "stream",
     "text": [
      "✅ Publicaciones guardadas en: ../data/raw\\500_trna_sec_publications.csv\n",
      "✅ Full pipeline executed\n"
     ]
    },
    {
     "name": "stderr",
     "output_type": "stream",
     "text": [
      "\n"
     ]
    },
    {
     "data": {
      "application/vnd.microsoft.datawrangler.viewer.v0+json": {
       "columns": [
        {
         "name": "index",
         "rawType": "int64",
         "type": "integer"
        },
        {
         "name": "URS_ID",
         "rawType": "object",
         "type": "string"
        },
        {
         "name": "Sequence",
         "rawType": "object",
         "type": "string"
        },
        {
         "name": "Length",
         "rawType": "int64",
         "type": "integer"
        },
        {
         "name": "description",
         "rawType": "object",
         "type": "string"
        },
        {
         "name": "species",
         "rawType": "object",
         "type": "string"
        },
        {
         "name": "rna_type",
         "rawType": "object",
         "type": "string"
        },
        {
         "name": "so_rna_type_name",
         "rawType": "object",
         "type": "string"
        },
        {
         "name": "expert_db",
         "rawType": "object",
         "type": "string"
        },
        {
         "name": "length",
         "rawType": "object",
         "type": "string"
        },
        {
         "name": "genes",
         "rawType": "object",
         "type": "string"
        },
        {
         "name": "publications",
         "rawType": "int64",
         "type": "integer"
        }
       ],
       "ref": "4eec63c7-bf54-4650-bff4-f31c846e1a6c",
       "rows": [
        [
         "0",
         "URS00001DA281_9606",
         "GCCCGGAUGAUCCUCAGUGGUCUGGGGUGCAGGCUUCAAACCUGUAGCUGUCUAGCGACAGAGUGGUUCAAUUCCACCUUUCGGGCG",
         "87",
         "Homo sapiens (human) tRNA-SeC (anticodon TCA) 1-1 (TRU-TCA1-1)",
         "Homo sapiens",
         "tRNA",
         "selenocysteinyl_tRNA",
         "ENA; HGNC; GeneCards; MalaCards; GtRNAdb; PDBe",
         "87",
         "TRU-TCA1-1; tRNA-SeC-TCA-1-1; tRNA-Ser",
         "120"
        ],
        [
         "1",
         "URS0000C8E9EB_9606",
         "GCUCGGAUGAUCCUCAGUGGUCUGGGGUGCAGGCUUCAAACCUGUAGCUGUCUAGUGACAGAGUGGUUCAAUUCCACCUUUGUA",
         "84",
         "Homo sapiens (human) tRNA-SeC (anticodon TCA) 2-1 (TRU-TCA2-1)",
         "Homo sapiens",
         "tRNA",
         "selenocysteinyl_tRNA",
         "GtRNAdb; HGNC; GeneCards",
         "84",
         "TRU-TCA2-1; tRNA-SeC-TCA-2-1",
         "7"
        ],
        [
         "2",
         "URS00008FED48_9606",
         "GGCCGGAUGAUCCUCAGUGGUCUGGGGUGCAGGCUUCAAACCUGUAGCUGUCUAGCGACAGAGUGGUUCAAUUCCACCUUUCGGGCGCCA",
         "90",
         "selenocysteine tRNA from Homo sapiens (PDB 4RQF, chain C)",
         "Homo sapiens",
         "tRNA",
         "selenocysteinyl_tRNA",
         "PDBe",
         "90",
         "",
         "18"
        ],
        [
         "3",
         "URS000014E598_9606",
         "GCCCGGAUGAUCCUCAGUGGUCUGGGGUGCAGGCUUCAAACCUGUAGCUGUCUAGCGACAGAGUGGUUCAAUUCCACCUUUCGGGCGCCA",
         "90",
         "human Ser-tRNA-Sec from Homo sapiens (PDB 7ZJW, chain F)",
         "Homo sapiens",
         "tRNA",
         "selenocysteinyl_tRNA",
         "PDBe",
         "90",
         "",
         "29"
        ],
        [
         "4",
         "URS00006501FF_9606",
         "GCUCGGAUGAUCCUCAGUGGUCUGGGGUGCAGGCUUCAAACCUGUAGCUGUCUAGUGACAGAGUGGUUCAAUUCCACCUUUGUAGGC",
         "87",
         "Homo sapiens (human) Selenocysteine transfer RNA",
         "Homo sapiens",
         "tRNA",
         "selenocysteinyl_tRNA",
         "Rfam",
         "87",
         "",
         "11"
        ]
       ],
       "shape": {
        "columns": 11,
        "rows": 5
       }
      },
      "text/html": [
       "<div>\n",
       "<style scoped>\n",
       "    .dataframe tbody tr th:only-of-type {\n",
       "        vertical-align: middle;\n",
       "    }\n",
       "\n",
       "    .dataframe tbody tr th {\n",
       "        vertical-align: top;\n",
       "    }\n",
       "\n",
       "    .dataframe thead th {\n",
       "        text-align: right;\n",
       "    }\n",
       "</style>\n",
       "<table border=\"1\" class=\"dataframe\">\n",
       "  <thead>\n",
       "    <tr style=\"text-align: right;\">\n",
       "      <th></th>\n",
       "      <th>URS_ID</th>\n",
       "      <th>Sequence</th>\n",
       "      <th>Length</th>\n",
       "      <th>description</th>\n",
       "      <th>species</th>\n",
       "      <th>rna_type</th>\n",
       "      <th>so_rna_type_name</th>\n",
       "      <th>expert_db</th>\n",
       "      <th>length</th>\n",
       "      <th>genes</th>\n",
       "      <th>publications</th>\n",
       "    </tr>\n",
       "  </thead>\n",
       "  <tbody>\n",
       "    <tr>\n",
       "      <th>0</th>\n",
       "      <td>URS00001DA281_9606</td>\n",
       "      <td>GCCCGGAUGAUCCUCAGUGGUCUGGGGUGCAGGCUUCAAACCUGUA...</td>\n",
       "      <td>87</td>\n",
       "      <td>Homo sapiens (human) tRNA-SeC (anticodon TCA) ...</td>\n",
       "      <td>Homo sapiens</td>\n",
       "      <td>tRNA</td>\n",
       "      <td>selenocysteinyl_tRNA</td>\n",
       "      <td>ENA; HGNC; GeneCards; MalaCards; GtRNAdb; PDBe</td>\n",
       "      <td>87</td>\n",
       "      <td>TRU-TCA1-1; tRNA-SeC-TCA-1-1; tRNA-Ser</td>\n",
       "      <td>120</td>\n",
       "    </tr>\n",
       "    <tr>\n",
       "      <th>1</th>\n",
       "      <td>URS0000C8E9EB_9606</td>\n",
       "      <td>GCUCGGAUGAUCCUCAGUGGUCUGGGGUGCAGGCUUCAAACCUGUA...</td>\n",
       "      <td>84</td>\n",
       "      <td>Homo sapiens (human) tRNA-SeC (anticodon TCA) ...</td>\n",
       "      <td>Homo sapiens</td>\n",
       "      <td>tRNA</td>\n",
       "      <td>selenocysteinyl_tRNA</td>\n",
       "      <td>GtRNAdb; HGNC; GeneCards</td>\n",
       "      <td>84</td>\n",
       "      <td>TRU-TCA2-1; tRNA-SeC-TCA-2-1</td>\n",
       "      <td>7</td>\n",
       "    </tr>\n",
       "    <tr>\n",
       "      <th>2</th>\n",
       "      <td>URS00008FED48_9606</td>\n",
       "      <td>GGCCGGAUGAUCCUCAGUGGUCUGGGGUGCAGGCUUCAAACCUGUA...</td>\n",
       "      <td>90</td>\n",
       "      <td>selenocysteine tRNA from Homo sapiens (PDB 4RQ...</td>\n",
       "      <td>Homo sapiens</td>\n",
       "      <td>tRNA</td>\n",
       "      <td>selenocysteinyl_tRNA</td>\n",
       "      <td>PDBe</td>\n",
       "      <td>90</td>\n",
       "      <td></td>\n",
       "      <td>18</td>\n",
       "    </tr>\n",
       "    <tr>\n",
       "      <th>3</th>\n",
       "      <td>URS000014E598_9606</td>\n",
       "      <td>GCCCGGAUGAUCCUCAGUGGUCUGGGGUGCAGGCUUCAAACCUGUA...</td>\n",
       "      <td>90</td>\n",
       "      <td>human Ser-tRNA-Sec from Homo sapiens (PDB 7ZJW...</td>\n",
       "      <td>Homo sapiens</td>\n",
       "      <td>tRNA</td>\n",
       "      <td>selenocysteinyl_tRNA</td>\n",
       "      <td>PDBe</td>\n",
       "      <td>90</td>\n",
       "      <td></td>\n",
       "      <td>29</td>\n",
       "    </tr>\n",
       "    <tr>\n",
       "      <th>4</th>\n",
       "      <td>URS00006501FF_9606</td>\n",
       "      <td>GCUCGGAUGAUCCUCAGUGGUCUGGGGUGCAGGCUUCAAACCUGUA...</td>\n",
       "      <td>87</td>\n",
       "      <td>Homo sapiens (human) Selenocysteine transfer RNA</td>\n",
       "      <td>Homo sapiens</td>\n",
       "      <td>tRNA</td>\n",
       "      <td>selenocysteinyl_tRNA</td>\n",
       "      <td>Rfam</td>\n",
       "      <td>87</td>\n",
       "      <td></td>\n",
       "      <td>11</td>\n",
       "    </tr>\n",
       "  </tbody>\n",
       "</table>\n",
       "</div>"
      ],
      "text/plain": [
       "               URS_ID                                           Sequence  \\\n",
       "0  URS00001DA281_9606  GCCCGGAUGAUCCUCAGUGGUCUGGGGUGCAGGCUUCAAACCUGUA...   \n",
       "1  URS0000C8E9EB_9606  GCUCGGAUGAUCCUCAGUGGUCUGGGGUGCAGGCUUCAAACCUGUA...   \n",
       "2  URS00008FED48_9606  GGCCGGAUGAUCCUCAGUGGUCUGGGGUGCAGGCUUCAAACCUGUA...   \n",
       "3  URS000014E598_9606  GCCCGGAUGAUCCUCAGUGGUCUGGGGUGCAGGCUUCAAACCUGUA...   \n",
       "4  URS00006501FF_9606  GCUCGGAUGAUCCUCAGUGGUCUGGGGUGCAGGCUUCAAACCUGUA...   \n",
       "\n",
       "   Length                                        description       species  \\\n",
       "0      87  Homo sapiens (human) tRNA-SeC (anticodon TCA) ...  Homo sapiens   \n",
       "1      84  Homo sapiens (human) tRNA-SeC (anticodon TCA) ...  Homo sapiens   \n",
       "2      90  selenocysteine tRNA from Homo sapiens (PDB 4RQ...  Homo sapiens   \n",
       "3      90  human Ser-tRNA-Sec from Homo sapiens (PDB 7ZJW...  Homo sapiens   \n",
       "4      87   Homo sapiens (human) Selenocysteine transfer RNA  Homo sapiens   \n",
       "\n",
       "  rna_type      so_rna_type_name  \\\n",
       "0     tRNA  selenocysteinyl_tRNA   \n",
       "1     tRNA  selenocysteinyl_tRNA   \n",
       "2     tRNA  selenocysteinyl_tRNA   \n",
       "3     tRNA  selenocysteinyl_tRNA   \n",
       "4     tRNA  selenocysteinyl_tRNA   \n",
       "\n",
       "                                        expert_db length  \\\n",
       "0  ENA; HGNC; GeneCards; MalaCards; GtRNAdb; PDBe     87   \n",
       "1                        GtRNAdb; HGNC; GeneCards     84   \n",
       "2                                            PDBe     90   \n",
       "3                                            PDBe     90   \n",
       "4                                            Rfam     87   \n",
       "\n",
       "                                    genes  publications  \n",
       "0  TRU-TCA1-1; tRNA-SeC-TCA-1-1; tRNA-Ser           120  \n",
       "1            TRU-TCA2-1; tRNA-SeC-TCA-2-1             7  \n",
       "2                                                    18  \n",
       "3                                                    29  \n",
       "4                                                    11  "
      ]
     },
     "execution_count": 19,
     "metadata": {},
     "output_type": "execute_result"
    }
   ],
   "source": [
    "df_full = fr_module.run_full_pipeline(maxsize=500, outdir=\"../data/raw\")\n",
    "\n",
    "print(\"✅ Full pipeline executed\")\n",
    "\n",
    "df_full.head()\n"
   ]
  },
  {
   "cell_type": "markdown",
   "id": "7babd113",
   "metadata": {},
   "source": [
    "# === 6. Exploratory Analysis ✨ ===\n",
    "\n",
    "Now that we have a curated dataset, let’s explore its structure.  \n",
    "We aim to answer:  \n",
    "\n",
    "- What is the **distribution of sequence lengths**?  \n",
    "- Which are the **top species** represented?  \n",
    "- How many **genes per species** are annotated?  \n",
    "\n",
    "These exploratory visualizations provide quick biological insights \n",
    "and also serve as a sanity check of the data.\n"
   ]
  },
  {
   "cell_type": "code",
   "execution_count": 20,
   "id": "b611a622",
   "metadata": {},
   "outputs": [
    {
     "data": {
      "image/png": "[encoded data removed]",
      "text/plain": [
       "<Figure size 800x500 with 1 Axes>"
      ]
     },
     "metadata": {},
     "output_type": "display_data"
    },
    {
     "name": "stderr",
     "output_type": "stream",
     "text": [
      "C:\\Users\\ro-ma\\AppData\\Local\\Temp\\ipykernel_26852\\2107898551.py:15: FutureWarning: \n",
      "\n",
      "Passing `palette` without assigning `hue` is deprecated and will be removed in v0.14.0. Assign the `y` variable to `hue` and set `legend=False` for the same effect.\n",
      "\n",
      "  sns.barplot(\n",
      "C:\\Users\\ro-ma\\AppData\\Local\\Temp\\ipykernel_26852\\2107898551.py:27: FutureWarning: \n",
      "\n",
      "Passing `palette` without assigning `hue` is deprecated and will be removed in v0.14.0. Assign the `y` variable to `hue` and set `legend=False` for the same effect.\n",
      "\n",
      "  sns.barplot(\n"
     ]
    },
    {
     "data": {
      "image/png": "[encoded data removed]",
      "text/plain": [
       "<Figure size 800x500 with 1 Axes>"
      ]
     },
     "metadata": {},
     "output_type": "display_data"
    },
    {
     "data": {
      "image/png": "[encoded data removed]",
      "text/plain": [
       "<Figure size 1000x600 with 1 Axes>"
      ]
     },
     "metadata": {},
     "output_type": "display_data"
    }
   ],
   "source": [
    "import seaborn as sns\n",
    "import matplotlib.pyplot as plt\n",
    "\n",
    "# === Distribution of sequence lengths ===\n",
    "plt.figure(figsize=(8,5))\n",
    "sns.histplot(df_full[\"Length\"], bins=30, kde=True)\n",
    "plt.title(\"tRNA-Sec sequence length distribution\")\n",
    "plt.xlabel(\"Length (nt)\")\n",
    "plt.ylabel(\"Count\")\n",
    "plt.show()\n",
    "\n",
    "# === Top 10 species by sequence count ===\n",
    "top_species = df_full[\"species\"].value_counts().head(10)\n",
    "plt.figure(figsize=(8,5))\n",
    "sns.barplot(\n",
    "    x=top_species.values,\n",
    "    y=top_species.index,\n",
    "    dodge=False,\n",
    "    palette=\"viridis\",\n",
    "    legend=False               \n",
    ")\n",
    "\n",
    "# === Top 20 species with longest average tRNA length ===\n",
    "top_species = mean_lengths.sort_values(\"Length\", ascending=False).head(20)\n",
    "\n",
    "plt.figure(figsize=(10,6))\n",
    "sns.barplot(\n",
    "    data=top_species,\n",
    "    x=\"Length\",\n",
    "    y=\"species\",\n",
    "    palette=\"viridis\"\n",
    ")\n",
    "plt.title(\"Species with the longest average tRNA lengths (Top 20)\")\n",
    "plt.xlabel(\"Average Length (nt)\")\n",
    "plt.ylabel(\"Species\")\n",
    "plt.tight_layout()\n",
    "plt.show()"
   ]
  },
  {
   "cell_type": "markdown",
   "id": "5f829a23",
   "metadata": {},
   "source": []
  }
 ],
 "metadata": {
  "kernelspec": {
   "display_name": "base",
   "language": "python",
   "name": "python3"
  },
  "language_info": {
   "codemirror_mode": {
    "name": "ipython",
    "version": 3
   },
   "file_extension": ".py",
   "mimetype": "text/x-python",
   "name": "python",
   "nbconvert_exporter": "python",
   "pygments_lexer": "ipython3",
   "version": "3.12.3"
  }
 },
 "nbformat": 4,
 "nbformat_minor": 5
}
